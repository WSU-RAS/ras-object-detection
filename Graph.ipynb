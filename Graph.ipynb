{
 "cells": [
  {
   "cell_type": "markdown",
   "metadata": {},
   "source": [
    "# Learning Curve\n",
    "\n",
    "The graph of the learning curve from the Darknet testing results in `results/`."
   ]
  },
  {
   "cell_type": "code",
   "execution_count": null,
   "metadata": {
    "collapsed": true
   },
   "outputs": [],
   "source": [
    "import os\n",
    "import re\n",
    "import sys\n",
    "import random\n",
    "import numpy as np\n",
    "import matplotlib.pyplot as plt\n",
    "import pandas as pd\n",
    "import seaborn as sns\n",
    "from IPython.display import display\n",
    "%matplotlib inline\n",
    "\n",
    "# Make them look prettier\n",
    "plt.style.use('ggplot')\n",
    "#sns.set(style=\"ticks\")\n",
    "sns.set_style(\"whitegrid\")\n",
    "\n",
    "# For reproducibility\n",
    "random.seed(0)\n",
    "np.random.seed(0)"
   ]
  },
  {
   "cell_type": "code",
   "execution_count": null,
   "metadata": {
    "collapsed": true
   },
   "outputs": [],
   "source": [
    "# From: https://stackoverflow.com/a/18603065/2698494\n",
    "def getLastLine(filename):\n",
    "    with open(filename, \"rb\") as f:\n",
    "        first = f.readline()        # Read the first line.\n",
    "        f.seek(-2, os.SEEK_END)     # Jump to the second last byte.\n",
    "        while f.read(1) != b\"\\n\":   # Until EOL is found...\n",
    "            f.seek(-2, os.SEEK_CUR) # ...jump back the read byte plus one more.\n",
    "        last = f.readline()         # Read last line.\n",
    "    \n",
    "    return last.decode(\"utf-8\")"
   ]
  },
  {
   "cell_type": "code",
   "execution_count": null,
   "metadata": {},
   "outputs": [],
   "source": [
    "from io import StringIO\n",
    "\n",
    "def percentageToFloat(x):\n",
    "    return float(x.strip('%'))/100\n",
    "\n",
    "def getResults(folder=\"results\"):\n",
    "    results = pd.DataFrame()\n",
    "    amount_match = re.compile(\"[^0-9]*([0-9]+).txt\")\n",
    "     \n",
    "    # Find all files recursively in specified folder\n",
    "    for dirname, dirnames, filenames in os.walk(folder):\n",
    "        for filename in filenames:\n",
    "            # Get the number out of the filename indiciating number of training examples\n",
    "            m = amount_match.match(filename)\n",
    "            amount = int(m.groups()[0])\n",
    "            \n",
    "            # Get the results in the last line of the text file\n",
    "            line = getLastLine(os.path.join(dirname, filename)).split()\n",
    "            \n",
    "            i = int(line[0])\n",
    "            correct = int(line[1])\n",
    "            total = int(line[2])\n",
    "            proposals = float(line[4])\n",
    "            iou = percentageToFloat(line[6])\n",
    "            recall = percentageToFloat(line[7].split(\":\")[1])\n",
    "            \n",
    "            results = results.append(pd.DataFrame([[amount, i, correct, total, proposals, iou, recall]],\n",
    "                columns=[\"Amount\", \"Images\", \"Correct\", \"Total\", \"Proposals\", \"Average IOU\", \"Recall\"]))\n",
    "            \n",
    "    return results.sort_values(\"Amount\")\n",
    "\n",
    "results = getResults()\n",
    "display(results)"
   ]
  },
  {
   "cell_type": "code",
   "execution_count": null,
   "metadata": {},
   "outputs": [],
   "source": [
    "from matplotlib.ticker import MaxNLocator\n",
    "\n",
    "plotColors = [\"r\", \"b\", \"g\", \"m\", \"y\", \"k\", \"c\"]\n",
    "plotMarkers = [\"s\", \"*\", \"x\", \"d\", \".\", \"o\", \"v\", \"^\", \"<\", \">\", \"1\", \"2\", \"3\", \"4\", ]\n",
    "plotLines = ['-', '--', '-.', ':']*2\n",
    "\n",
    "def plotLearningCurve(title, y, x, curves, filename, loc=5):\n",
    "    \"\"\"\n",
    "    Title\n",
    "    Axis labels - y vs. x\n",
    "    Curves - data to plot\n",
    "    loc - place for legend\n",
    "    \"\"\"\n",
    "    fig, ax = plt.subplots(1,1,figsize=(12, 6),dpi=200)\n",
    "    ax.xaxis.set_major_locator(MaxNLocator(integer=True))\n",
    "    for i, (name, data) in enumerate(curves):\n",
    "        plt.plot(data[:,0], data[:,1], color=plotColors[i],\n",
    "                    marker=plotMarkers[i], label=name, linestyle=plotLines[i])\n",
    "    plt.title(title)\n",
    "    plt.ylabel(y)\n",
    "    plt.xlabel(x)\n",
    "    plt.legend(loc=loc)\n",
    "    \n",
    "    plt.savefig(filename+\".png\")\n",
    "\n",
    "plotLearningCurve(\"Learning Curve\",\n",
    "                  \"Metric (between 0 and 1)\", \"Number of Training Examples\",\n",
    "                 [(\"Average IOU\", results[['Amount','Average IOU']].values),\n",
    "                 (\"Recall\", results[['Amount','Recall']].values)],\n",
    "                  \"LearningCurve\")"
   ]
  }
 ],
 "metadata": {
  "kernelspec": {
   "display_name": "Python 3",
   "language": "python",
   "name": "python3"
  },
  "language_info": {
   "codemirror_mode": {
    "name": "ipython",
    "version": 3
   },
   "file_extension": ".py",
   "mimetype": "text/x-python",
   "name": "python",
   "nbconvert_exporter": "python",
   "pygments_lexer": "ipython3",
   "version": "3.6.2"
  }
 },
 "nbformat": 4,
 "nbformat_minor": 2
}
