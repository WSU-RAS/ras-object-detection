{
 "cells": [
  {
   "cell_type": "markdown",
   "metadata": {},
   "source": [
    "# Sloth to YOLO\n",
    "\n",
    "Conver the .json file generated with Sloth to be in the format for YOLO."
   ]
  },
  {
   "cell_type": "code",
   "execution_count": 1,
   "metadata": {},
   "outputs": [],
   "source": [
    "import json\n",
    "\n",
    "def getJson(file):\n",
    "    \"\"\"\n",
    "    Load the JSON file\n",
    "    \"\"\"\n",
    "    with open(file, 'r') as f:\n",
    "        data = json.load(f)\n",
    "    \n",
    "    return data\n",
    "\n",
    "data = getJson(\"rgb.json\")"
   ]
  },
  {
   "cell_type": "code",
   "execution_count": 2,
   "metadata": {},
   "outputs": [
    {
     "name": "stdout",
     "output_type": "stream",
     "text": [
      "['food', 'glass', 'keys', 'pillbottle', 'plant', 'umbrella', 'watercan']\n"
     ]
    }
   ],
   "source": [
    "def uniqueClasses(data):\n",
    "    \"\"\"\n",
    "    Get all the labels in the file and alphabetically sort them\n",
    "    \"\"\"\n",
    "    labels = []\n",
    "    \n",
    "    for f in data:\n",
    "        for a in f['annotations']:\n",
    "            if a['class'] not in labels:\n",
    "                labels.append(a['class'])\n",
    "    \n",
    "    # Make it not depend on order of labels in the annotations\n",
    "    labels.sort()\n",
    "    \n",
    "    return labels\n",
    "\n",
    "labels = uniqueClasses(data)\n",
    "print(labels)"
   ]
  },
  {
   "cell_type": "code",
   "execution_count": 3,
   "metadata": {},
   "outputs": [],
   "source": [
    "def mapLabel(labels, label):\n",
    "    \"\"\"\n",
    "    Convert the given label to an integer based on where it is in the labels array\n",
    "    \n",
    "    E.g.: mapLabel(['a', 'b', 'c', 'd'], 'c') # returns 2\n",
    "    \"\"\"\n",
    "    assert label in labels, \"Label must be in the list of labels\"\n",
    "    return labels.index(label)"
   ]
  },
  {
   "cell_type": "code",
   "execution_count": 4,
   "metadata": {
    "collapsed": true
   },
   "outputs": [],
   "source": [
    "import struct\n",
    "import imghdr\n",
    "\n",
    "def getSize(filename):\n",
    "    \"\"\"\n",
    "    Determine the image type of f and return its size.\n",
    "    from draco\n",
    "    https://stackoverflow.com/a/20380514/2698494\n",
    "    \"\"\"\n",
    "    with open(filename, 'rb') as f:\n",
    "        head = f.read(24)\n",
    "        if len(head) != 24:\n",
    "            return\n",
    "        if imghdr.what(filename) == 'png':\n",
    "            check = struct.unpack('>i', head[4:8])[0]\n",
    "            if check != 0x0d0a1a0a:\n",
    "                return\n",
    "            width, height = struct.unpack('>ii', head[16:24])\n",
    "        elif imghdr.what(filename) == 'gif':\n",
    "            width, height = struct.unpack('<HH', head[6:10])\n",
    "        elif imghdr.what(filename) == 'jpeg':\n",
    "            try:\n",
    "                f.seek(0) # Read 0xff next\n",
    "                size = 2\n",
    "                ftype = 0\n",
    "                while not 0xc0 <= ftype <= 0xcf:\n",
    "                    f.seek(size, 1)\n",
    "                    byte = f.read(1)\n",
    "                    while ord(byte) == 0xff:\n",
    "                        byte = f.read(1)\n",
    "                    ftype = ord(byte)\n",
    "                    size = struct.unpack('>H', f.read(2))[0] - 2\n",
    "                # We are at a SOFn block\n",
    "                f.seek(1, 1)  # Skip `precision' byte.\n",
    "                height, width = struct.unpack('>HH', f.read(4))\n",
    "            except Exception: #IGNORE:W0703\n",
    "                return\n",
    "        else:\n",
    "            return\n",
    "        return width, height"
   ]
  },
  {
   "cell_type": "code",
   "execution_count": 6,
   "metadata": {
    "scrolled": true
   },
   "outputs": [],
   "source": [
    "import os\n",
    "\n",
    "def saveYOLO(data, labels, labellist, imagelist):\n",
    "    images = []\n",
    "    \n",
    "    for image in data:\n",
    "        filename = image['filename']\n",
    "        output = filename.replace(\"images\", \"labels\").replace(\"png\", \"txt\")\n",
    "        x, y = size = getSize(filename)\n",
    "        \n",
    "        # Skip if we don't have any labels for this image\n",
    "        if not len(image['annotations']) > 0:\n",
    "            continue\n",
    "        # Make the output directory if it doesn't exist\n",
    "        if not os.path.exists(os.path.dirname(output)):\n",
    "            os.makedirs(os.path.dirname(output))\n",
    "        \n",
    "        with open(output, 'w') as f:\n",
    "            for a in image['annotations']:\n",
    "                # Get the class number\n",
    "                num = mapLabel(labels, a['class'])\n",
    "                # Convert to YOLO format, see:\n",
    "                # https://github.com/PalouseRobosub/vision_dev/blob/master/sloth/annotation_containers/darknet.py\n",
    "                xpos = (a['width'] / 2 + a['x']) / x\n",
    "                ypos = (a['height'] / 2 + a['y']) / y\n",
    "                width = a['width'] / x\n",
    "                height = a['height'] / y\n",
    "                f.write(\"{} {} {} {} {}\\n\".format(num, xpos, ypos, width, height))\n",
    "\n",
    "                assert not (xpos < 0 or ypos < 0 or width < 0 or height < 0 or \\\n",
    "                    xpos > 1 or ypos > 1 or width > 1 or height > 1), \\\n",
    "                    \"Values must be in range [0,1]\"\n",
    "        \n",
    "        # Since we found annotations for this image, save it to train with\n",
    "        images.append(filename)\n",
    "    \n",
    "    # Write out list of images\n",
    "    with open(imagelist, 'w') as f:\n",
    "        for i in images:\n",
    "            f.write(i + \"\\n\")\n",
    "            \n",
    "    # Write out list of labels\n",
    "    with open(labellist, 'w') as f:\n",
    "        for l in labels:\n",
    "            f.write(l + \"\\n\")\n",
    "\n",
    "saveYOLO(data, labels, \"rgb.labels\", \"rgb.list\")"
   ]
  }
 ],
 "metadata": {
  "kernelspec": {
   "display_name": "Python 3",
   "language": "python",
   "name": "python3"
  },
  "language_info": {
   "codemirror_mode": {
    "name": "ipython",
    "version": 3
   },
   "file_extension": ".py",
   "mimetype": "text/x-python",
   "name": "python",
   "nbconvert_exporter": "python",
   "pygments_lexer": "ipython3",
   "version": "3.6.3"
  }
 },
 "nbformat": 4,
 "nbformat_minor": 2
}
